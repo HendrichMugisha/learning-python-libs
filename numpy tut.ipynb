{
 "cells": [
  {
   "cell_type": "code",
   "execution_count": 1,
   "id": "bbaf270e-590a-4b15-b627-cb35a9aa7bc8",
   "metadata": {},
   "outputs": [],
   "source": [
    "import numpy as np"
   ]
  },
  {
   "cell_type": "code",
   "execution_count": 15,
   "id": "55e3ae8d-73f5-41f2-b7a9-8693f8fcbd8d",
   "metadata": {},
   "outputs": [],
   "source": [
    "a = np.array([1,2,3,5,7], dtype='i')"
   ]
  },
  {
   "cell_type": "code",
   "execution_count": 16,
   "id": "4d016182-9ef2-4edf-93e8-5349a1f36ca3",
   "metadata": {},
   "outputs": [],
   "source": [
    "b = np.array([2,3,5], dtype='f')"
   ]
  },
  {
   "cell_type": "code",
   "execution_count": 17,
   "id": "f07236b6-0b48-4057-bbcc-495a0b54cde0",
   "metadata": {},
   "outputs": [
    {
     "name": "stdout",
     "output_type": "stream",
     "text": [
      "[1 2 3 5 7] <class 'numpy.ndarray'>\n"
     ]
    }
   ],
   "source": [
    "print(a, type(a))"
   ]
  },
  {
   "cell_type": "code",
   "execution_count": 18,
   "id": "287cf7ef-c08e-49d1-afa2-56b9aec112b8",
   "metadata": {},
   "outputs": [
    {
     "data": {
      "text/plain": [
       "numpy.ndarray"
      ]
     },
     "execution_count": 18,
     "metadata": {},
     "output_type": "execute_result"
    }
   ],
   "source": [
    "type(b)"
   ]
  },
  {
   "cell_type": "code",
   "execution_count": 19,
   "id": "d78e5dd6-c7e8-4c13-9012-4a447e060c87",
   "metadata": {},
   "outputs": [
    {
     "data": {
      "text/plain": [
       "dtype('int32')"
      ]
     },
     "execution_count": 19,
     "metadata": {},
     "output_type": "execute_result"
    }
   ],
   "source": [
    "a.dtype\n",
    "#this tells us the datatype"
   ]
  },
  {
   "cell_type": "code",
   "execution_count": 21,
   "id": "f3a132ad-5e6b-4a21-b501-93bb6ecdbf46",
   "metadata": {},
   "outputs": [
    {
     "data": {
      "text/plain": [
       "dtype('float32')"
      ]
     },
     "execution_count": 21,
     "metadata": {},
     "output_type": "execute_result"
    }
   ],
   "source": [
    "b.dtype"
   ]
  },
  {
   "cell_type": "code",
   "execution_count": 22,
   "id": "76fdc249-0b66-4b0a-97e1-a1eab50fff77",
   "metadata": {},
   "outputs": [],
   "source": [
    "a=np.array([[1,2,3], [4,5,6]])\n",
    "#dimenstion of array=total number of indeces required to access an individual element of the array"
   ]
  },
  {
   "cell_type": "code",
   "execution_count": 23,
   "id": "fc866142-27e7-4129-89b3-8a0f419356a1",
   "metadata": {},
   "outputs": [
    {
     "name": "stdout",
     "output_type": "stream",
     "text": [
      "2\n"
     ]
    }
   ],
   "source": [
    "print(a.ndim)\n",
    "#number of dimensions"
   ]
  },
  {
   "cell_type": "code",
   "execution_count": 25,
   "id": "2a408a3b-8a42-431b-aeec-1e5682e7943f",
   "metadata": {},
   "outputs": [
    {
     "name": "stdout",
     "output_type": "stream",
     "text": [
      "3\n"
     ]
    }
   ],
   "source": [
    "print(a[0,2])"
   ]
  },
  {
   "cell_type": "code",
   "execution_count": 30,
   "id": "f7726172-58ec-4e8a-95b6-8f6c3f365ff7",
   "metadata": {},
   "outputs": [],
   "source": [
    "b = np.array([[1,2,3],[2,4,5],[5,6,9]])"
   ]
  },
  {
   "cell_type": "code",
   "execution_count": 32,
   "id": "1cbec57e-5de2-4d82-81d3-958f1dd0e2f0",
   "metadata": {},
   "outputs": [
    {
     "name": "stdout",
     "output_type": "stream",
     "text": [
      "3\n"
     ]
    },
    {
     "data": {
      "text/plain": [
       "2"
      ]
     },
     "execution_count": 32,
     "metadata": {},
     "output_type": "execute_result"
    }
   ],
   "source": [
    "print(b[0,2])\n",
    "b.ndim"
   ]
  },
  {
   "cell_type": "code",
   "execution_count": 34,
   "id": "01f83e39-41e1-48f6-9fc5-9fbc2325b64c",
   "metadata": {},
   "outputs": [
    {
     "name": "stdout",
     "output_type": "stream",
     "text": [
      "5\n"
     ]
    }
   ],
   "source": [
    "print(b[1,2])"
   ]
  },
  {
   "cell_type": "code",
   "execution_count": 35,
   "id": "db2796e6-c4db-4eca-8bac-78a639b52199",
   "metadata": {},
   "outputs": [],
   "source": [
    "C = np.array([[[1,2,3], [4,5,6], [0,0,-1]], [[-1,-2,-3], [-4,-5,-6], [0,0,-1]]])"
   ]
  },
  {
   "cell_type": "code",
   "execution_count": 36,
   "id": "3d3aff33-6afb-4d70-8699-24c75f0cf71e",
   "metadata": {},
   "outputs": [
    {
     "data": {
      "text/plain": [
       "3"
      ]
     },
     "execution_count": 36,
     "metadata": {},
     "output_type": "execute_result"
    }
   ],
   "source": [
    "C.ndim"
   ]
  },
  {
   "cell_type": "code",
   "execution_count": null,
   "id": "60736b58-6d2a-45b3-b776-bb8fac4eda10",
   "metadata": {},
   "outputs": [
    {
     "name": "stdout",
     "output_type": "stream",
     "text": [
      "-3\n"
     ]
    }
   ],
   "source": [
    "print(C[1,0,2])"
   ]
  },
  {
   "cell_type": "code",
   "execution_count": 39,
   "id": "684dded7-91ad-4580-b33c-7ed3449f5e46",
   "metadata": {},
   "outputs": [
    {
     "data": {
      "text/plain": [
       "numpy.ndarray"
      ]
     },
     "execution_count": 39,
     "metadata": {},
     "output_type": "execute_result"
    }
   ],
   "source": [
    "type(C)"
   ]
  },
  {
   "cell_type": "code",
   "execution_count": null,
   "id": "e942f00c-de15-44ad-8a06-f9d6af5368a6",
   "metadata": {},
   "outputs": [],
   "source": []
  }
 ],
 "metadata": {
  "kernelspec": {
   "display_name": "Python 3 (ipykernel)",
   "language": "python",
   "name": "python3"
  },
  "language_info": {
   "codemirror_mode": {
    "name": "ipython",
    "version": 3
   },
   "file_extension": ".py",
   "mimetype": "text/x-python",
   "name": "python",
   "nbconvert_exporter": "python",
   "pygments_lexer": "ipython3",
   "version": "3.13.5"
  }
 },
 "nbformat": 4,
 "nbformat_minor": 5
}
