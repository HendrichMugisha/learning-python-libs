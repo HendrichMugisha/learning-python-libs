{
 "cells": [
  {
   "cell_type": "code",
   "execution_count": null,
   "id": "13cb1a57",
   "metadata": {
    "vscode": {
     "languageId": "plaintext"
    }
   },
   "outputs": [],
   "source": [
    "a='my name is henry'"
   ]
  }
 ],
 "metadata": {
  "language_info": {
   "name": "python"
  }
 },
 "nbformat": 4,
 "nbformat_minor": 5
}
